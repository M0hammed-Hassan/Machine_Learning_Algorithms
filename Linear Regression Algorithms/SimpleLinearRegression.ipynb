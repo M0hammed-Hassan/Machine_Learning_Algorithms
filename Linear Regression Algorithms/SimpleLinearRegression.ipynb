{
 "cells": [
  {
   "cell_type": "markdown",
   "metadata": {},
   "source": [
    "# Implementing Simple Linear Regression Model From Scratch \n",
    "In this notebook i'm gonna implement simple linear regression model from scratch. I will use a simple data frame that contains only one feature and one label x, y respectively."
   ]
  },
  {
   "cell_type": "code",
   "execution_count": 1,
   "metadata": {},
   "outputs": [],
   "source": [
    "#Required Libraries\n",
    "import pandas as pd\n",
    "import matplotlib.pyplot as plt"
   ]
  },
  {
   "cell_type": "code",
   "execution_count": 2,
   "metadata": {},
   "outputs": [],
   "source": [
    "#Reading the data\n",
    "df = pd.read_excel('data.xlsx')"
   ]
  },
  {
   "cell_type": "code",
   "execution_count": 3,
   "metadata": {},
   "outputs": [
    {
     "data": {
      "text/html": [
       "<div>\n",
       "<style scoped>\n",
       "    .dataframe tbody tr th:only-of-type {\n",
       "        vertical-align: middle;\n",
       "    }\n",
       "\n",
       "    .dataframe tbody tr th {\n",
       "        vertical-align: top;\n",
       "    }\n",
       "\n",
       "    .dataframe thead th {\n",
       "        text-align: right;\n",
       "    }\n",
       "</style>\n",
       "<table border=\"1\" class=\"dataframe\">\n",
       "  <thead>\n",
       "    <tr style=\"text-align: right;\">\n",
       "      <th></th>\n",
       "      <th>X</th>\n",
       "      <th>Y</th>\n",
       "    </tr>\n",
       "  </thead>\n",
       "  <tbody>\n",
       "    <tr>\n",
       "      <th>0</th>\n",
       "      <td>108</td>\n",
       "      <td>392.5</td>\n",
       "    </tr>\n",
       "    <tr>\n",
       "      <th>1</th>\n",
       "      <td>19</td>\n",
       "      <td>46.2</td>\n",
       "    </tr>\n",
       "    <tr>\n",
       "      <th>2</th>\n",
       "      <td>13</td>\n",
       "      <td>15.7</td>\n",
       "    </tr>\n",
       "    <tr>\n",
       "      <th>3</th>\n",
       "      <td>124</td>\n",
       "      <td>422.2</td>\n",
       "    </tr>\n",
       "    <tr>\n",
       "      <th>4</th>\n",
       "      <td>40</td>\n",
       "      <td>119.4</td>\n",
       "    </tr>\n",
       "  </tbody>\n",
       "</table>\n",
       "</div>"
      ],
      "text/plain": [
       "     X      Y\n",
       "0  108  392.5\n",
       "1   19   46.2\n",
       "2   13   15.7\n",
       "3  124  422.2\n",
       "4   40  119.4"
      ]
     },
     "execution_count": 3,
     "metadata": {},
     "output_type": "execute_result"
    }
   ],
   "source": [
    "#Displaying the first five rows\n",
    "df.head()"
   ]
  },
  {
   "cell_type": "code",
   "execution_count": 5,
   "metadata": {},
   "outputs": [],
   "source": [
    "#Splitting the data for training and testing\n",
    "x_train = df.iloc[ : 40]['X'].values\n",
    "y_train = df.iloc[ : 40]['Y'].values\n",
    "x_test  = df.iloc[40 : ]['X'].values\n",
    "y_test  = df.iloc[40 : ]['Y'].values "
   ]
  },
  {
   "cell_type": "code",
   "execution_count": 6,
   "metadata": {},
   "outputs": [
    {
     "name": "stdout",
     "output_type": "stream",
     "text": [
      "X Train:  [108  19  13 124  40  57  23  14  45  10   5  48  11  23   7   2  24   6\n",
      "   3  23   6   9   9   3  29   7   4  20   7   4   0  25   6   5  22  11\n",
      "  61  12   4  16]\n",
      "Y Train:  [392.5  46.2  15.7 422.2 119.4 170.9  56.9  77.5 214.   65.3  20.9 248.1\n",
      "  23.5  39.6  48.8   6.6 134.9  50.9   4.4 113.   14.8  48.7  52.1  13.2\n",
      " 103.9  77.5  11.8  98.1  27.9  38.1   0.   69.2  14.6  40.3 161.5  57.2\n",
      " 217.6  58.1  12.6  59.6]\n",
      "X Test:  [13 60 41 37 55 41 11 27  8  3 17 13 13 15  8 29 30 24  9 31 14 53 26]\n",
      "Y Test:  [ 89.9 202.4 181.3 152.8 162.8  73.4  21.3  92.6  76.1  39.9 142.1  93.\n",
      "  31.9  32.1  55.6 133.3 194.5 137.9  87.4 209.8  95.5 244.6 187.5]\n"
     ]
    }
   ],
   "source": [
    "#Displaying training and testing data\n",
    "print('X Train: ', x_train)\n",
    "print('Y Train: ', y_train)\n",
    "print('X Test: ', x_test)\n",
    "print('Y Test: ', y_test)"
   ]
  },
  {
   "cell_type": "code",
   "execution_count": 7,
   "metadata": {},
   "outputs": [
    {
     "name": "stdout",
     "output_type": "stream",
     "text": [
      "X Train Shape: (40,) and Type: <class 'numpy.ndarray'>\n",
      "Y Train Shape: (40,) and Type: <class 'numpy.ndarray'>\n",
      "X Test Shape: (23,)  and Type: <class 'numpy.ndarray'>\n",
      "Y Test Shape: (23,)  and Type: <class 'numpy.ndarray'>\n"
     ]
    }
   ],
   "source": [
    "#Displaying the shape and type of training and testing data\n",
    "print(f'X Train Shape: {x_train.shape} and Type: {type(x_train)}')\n",
    "print(f'Y Train Shape: {y_train.shape} and Type: {type(y_train)}')\n",
    "print(f'X Test Shape: {x_test.shape}  and Type: {type(x_test)}')\n",
    "print(f'Y Test Shape: {y_test.shape}  and Type: {type(y_test)}')"
   ]
  },
  {
   "cell_type": "code",
   "execution_count": 8,
   "metadata": {},
   "outputs": [
    {
     "data": {
      "image/png": "[encoded data removed]",
      "text/plain": [
       "<Figure size 504x504 with 1 Axes>"
      ]
     },
     "metadata": {
      "needs_background": "light"
     },
     "output_type": "display_data"
    }
   ],
   "source": [
    "#The correlation between x_train , y_train\n",
    "plt.figure(figsize = (7,7))\n",
    "plt.scatter(x_train,y_train)\n",
    "plt.title('The Correlation Between X_Train and Y_Train')\n",
    "plt.xlabel('X Train')\n",
    "plt.ylabel('Y Train')\n",
    "plt.show()"
   ]
  },
  {
   "cell_type": "markdown",
   "metadata": {},
   "source": [
    "- From the above scatter plot we can see that the relation between the two axis is linear."
   ]
  },
  {
   "cell_type": "code",
   "execution_count": 9,
   "metadata": {},
   "outputs": [],
   "source": [
    "def MEAN(arr):\n",
    "    '''\n",
    "    This function for obtaining the mean from an array from scratch.\n",
    "    INPUT:\n",
    "    arr: numpy.ndarray. The array.\n",
    "    OUTPUT:\n",
    "    The mean of the given array.\n",
    "    '''\n",
    "    sum_ = 0\n",
    "    length = len(arr)\n",
    "    for idx in range(length):\n",
    "        sum_ += arr[idx]\n",
    "    return sum_ / length"
   ]
  },
  {
   "cell_type": "code",
   "execution_count": 10,
   "metadata": {},
   "outputs": [],
   "source": [
    "def coefficients(x_train,y_train):\n",
    "    '''\n",
    "    This function for obtaining the coefficients of the linear equation from scratch.\n",
    "    INPUT:\n",
    "    x_train: numpy.ndarray. The training part from x.\n",
    "    y_train: numpy.ndarray. The training part from y.\n",
    "    OUTPUT:\n",
    "    The coefficients of the linear equation.\n",
    "    '''\n",
    "    numerator_val = 0\n",
    "    denominator_val = 0\n",
    "    x_mean = MEAN(x_train)\n",
    "    y_mean = MEAN(y_train)\n",
    "    for idx in range(len(x_train)):\n",
    "        numerator_val += ((x_train[idx] - x_mean) * (y_train[idx] - y_mean))\n",
    "        denominator_val += ((x_train[idx] - x_mean) ** 2)\n",
    "    B1 = numerator_val / denominator_val\n",
    "    B0 = y_mean - B1 * x_mean\n",
    "    return B0, B1"
   ]
  },
  {
   "cell_type": "code",
   "execution_count": 11,
   "metadata": {},
   "outputs": [],
   "source": [
    "def SimpleLinearRegression(x_train,y_train,x_test):\n",
    "    '''\n",
    "    This function for getting the coefficients and uses them to return the predicted values.\n",
    "    INPUT:\n",
    "    x_train: numpy.ndarray. The training part from x.\n",
    "    y_train: numpy.ndarray. The training part from y.\n",
    "    x_test: numpy.ndarray. The testing part from x.\n",
    "    OUTPUT:\n",
    "    The predicted values.\n",
    "    '''\n",
    "    y_pred = []\n",
    "    B0, B1 = coefficients(x_train,y_train)\n",
    "    for idx in range(len(x_test)):\n",
    "        y_pred.append(B0 + B1 * x_test[idx])\n",
    "    return y_pred"
   ]
  },
  {
   "cell_type": "code",
   "execution_count": 12,
   "metadata": {},
   "outputs": [],
   "source": [
    "def MSE(y_pred,y_actual):\n",
    "    ''''\n",
    "    This function for calculating the mean squared error.\n",
    "    INPUT:\n",
    "    y_pred: list. The predicted values.\n",
    "    y_actual: numpy.ndarray. The testing part from y.\n",
    "    OUTPUT:\n",
    "    Mean squared error value.\n",
    "    '''\n",
    "    length = len(y_pred)\n",
    "    sum_ = 0\n",
    "    for idx in range(length):\n",
    "        sum_ += ((y_actual[idx] - y_pred[idx]) ** 2)\n",
    "    return sum_ / length"
   ]
  },
  {
   "cell_type": "code",
   "execution_count": 13,
   "metadata": {},
   "outputs": [],
   "source": [
    "def evaluate(x_train,y_train,x_test,y_test):\n",
    "    '''\n",
    "    This function for evaluating the model.\n",
    "    INPUT:\n",
    "    x_train: numpy.ndarray. The training part from x.\n",
    "    y_train: numpy.ndarray. The training part from y.\n",
    "    x_test: numpy.ndarray. The testing part from x.\n",
    "    y_test: numpy.ndarray. The testing part from y.\n",
    "    OUTPUT:\n",
    "    The evaluation results.\n",
    "    '''\n",
    "    y_pred = SimpleLinearRegression(x_train,y_train,x_test)\n",
    "    mse = MSE(y_pred,y_test)\n",
    "    print(f'The predicted values:\\n{y_pred}\\n')\n",
    "    print(f'The Model Evaluation by using MSE = {mse}')\n",
    "    return y_pred"
   ]
  },
  {
   "cell_type": "code",
   "execution_count": 14,
   "metadata": {},
   "outputs": [
    {
     "name": "stdout",
     "output_type": "stream",
     "text": [
      "The predicted values:\n",
      "[56.282120885902025, 219.3265056235952, 153.41494583601713, 139.53882798600068, 201.98135831107464, 153.41494583601713, 49.344061960893804, 104.84853336095956, 38.93697357338148, 21.591826260860927, 70.15823873591847, 56.282120885902025, 56.282120885902025, 63.220179810910246, 38.93697357338148, 111.78659228596779, 115.2556217484719, 94.44144497344723, 42.40600303588559, 118.724651210976, 59.751150348406135, 195.04329938606645, 101.37950389845545]\n",
      "\n",
      "The Model Evaluation by using MSE = 2235.9038595957086\n"
     ]
    }
   ],
   "source": [
    "#Model Evaluation\n",
    "y_pred = evaluate(x_train,y_train,x_test,y_test)"
   ]
  },
  {
   "cell_type": "code",
   "execution_count": 15,
   "metadata": {},
   "outputs": [
    {
     "data": {
      "image/png": "[encoded data removed]",
      "text/plain": [
       "<Figure size 504x504 with 1 Axes>"
      ]
     },
     "metadata": {
      "needs_background": "light"
     },
     "output_type": "display_data"
    }
   ],
   "source": [
    "plt.figure(figsize = (7,7))\n",
    "plt.plot(x_test,y_pred)\n",
    "plt.title('Predicted Values VS Actual Values')\n",
    "plt.xlabel('X Test')\n",
    "plt.ylabel('Y Pred')\n",
    "plt.show()"
   ]
  }
 ],
 "metadata": {
  "kernelspec": {
   "display_name": "Python 3.8.8 ('base')",
   "language": "python",
   "name": "python3"
  },
  "language_info": {
   "codemirror_mode": {
    "name": "ipython",
    "version": 3
   },
   "file_extension": ".py",
   "mimetype": "text/x-python",
   "name": "python",
   "nbconvert_exporter": "python",
   "pygments_lexer": "ipython3",
   "version": "3.8.8"
  },
  "orig_nbformat": 4,
  "vscode": {
   "interpreter": {
    "hash": "2c1b7d2a254a833f77e60ac78da1ed54ff65cb1701c74f3555560f6bc7e55a47"
   }
  }
 },
 "nbformat": 4,
 "nbformat_minor": 2
}
