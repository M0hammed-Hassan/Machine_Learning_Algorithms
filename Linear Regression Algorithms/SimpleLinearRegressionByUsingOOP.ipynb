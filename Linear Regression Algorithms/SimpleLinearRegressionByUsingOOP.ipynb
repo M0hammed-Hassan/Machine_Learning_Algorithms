{
 "cells": [
  {
   "cell_type": "markdown",
   "metadata": {},
   "source": [
    "# Implementing Simple Linear Regression From Scratch\n",
    "- In this notebook i will build a simple linear regression algorithm from scratch by using oop concept."
   ]
  },
  {
   "cell_type": "code",
   "execution_count": 1,
   "metadata": {},
   "outputs": [],
   "source": [
    "#Required Libraries\n",
    "import pandas as pd\n",
    "import matplotlib.pyplot as plt\n",
    "import seaborn as sns\n",
    "sns.set(rc = {'figure.figsize':[7,7]}, font_scale = 1.2)"
   ]
  },
  {
   "cell_type": "code",
   "execution_count": 2,
   "metadata": {},
   "outputs": [],
   "source": [
    "#Reading the data\n",
    "df = pd.read_csv('challenge_dataset.txt',sep =',',names = ['X','Y'])"
   ]
  },
  {
   "cell_type": "code",
   "execution_count": 3,
   "metadata": {},
   "outputs": [
    {
     "data": {
      "text/html": [
       "<div>\n",
       "<style scoped>\n",
       "    .dataframe tbody tr th:only-of-type {\n",
       "        vertical-align: middle;\n",
       "    }\n",
       "\n",
       "    .dataframe tbody tr th {\n",
       "        vertical-align: top;\n",
       "    }\n",
       "\n",
       "    .dataframe thead th {\n",
       "        text-align: right;\n",
       "    }\n",
       "</style>\n",
       "<table border=\"1\" class=\"dataframe\">\n",
       "  <thead>\n",
       "    <tr style=\"text-align: right;\">\n",
       "      <th></th>\n",
       "      <th>X</th>\n",
       "      <th>Y</th>\n",
       "    </tr>\n",
       "  </thead>\n",
       "  <tbody>\n",
       "    <tr>\n",
       "      <th>0</th>\n",
       "      <td>6.1101</td>\n",
       "      <td>17.5920</td>\n",
       "    </tr>\n",
       "    <tr>\n",
       "      <th>1</th>\n",
       "      <td>5.5277</td>\n",
       "      <td>9.1302</td>\n",
       "    </tr>\n",
       "    <tr>\n",
       "      <th>2</th>\n",
       "      <td>8.5186</td>\n",
       "      <td>13.6620</td>\n",
       "    </tr>\n",
       "    <tr>\n",
       "      <th>3</th>\n",
       "      <td>7.0032</td>\n",
       "      <td>11.8540</td>\n",
       "    </tr>\n",
       "    <tr>\n",
       "      <th>4</th>\n",
       "      <td>5.8598</td>\n",
       "      <td>6.8233</td>\n",
       "    </tr>\n",
       "  </tbody>\n",
       "</table>\n",
       "</div>"
      ],
      "text/plain": [
       "        X        Y\n",
       "0  6.1101  17.5920\n",
       "1  5.5277   9.1302\n",
       "2  8.5186  13.6620\n",
       "3  7.0032  11.8540\n",
       "4  5.8598   6.8233"
      ]
     },
     "execution_count": 3,
     "metadata": {},
     "output_type": "execute_result"
    }
   ],
   "source": [
    "#Displaying the first five rows from the data\n",
    "df.head()"
   ]
  },
  {
   "cell_type": "code",
   "execution_count": 4,
   "metadata": {},
   "outputs": [
    {
     "data": {
      "text/plain": [
       "(97, 2)"
      ]
     },
     "execution_count": 4,
     "metadata": {},
     "output_type": "execute_result"
    }
   ],
   "source": [
    "#Shape of the data\n",
    "df.shape"
   ]
  },
  {
   "cell_type": "markdown",
   "metadata": {},
   "source": [
    "- No.of rows = 97\n",
    "- No.of columns = 2"
   ]
  },
  {
   "cell_type": "code",
   "execution_count": 5,
   "metadata": {},
   "outputs": [
    {
     "data": {
      "text/plain": [
       "X    0\n",
       "Y    0\n",
       "dtype: int64"
      ]
     },
     "execution_count": 5,
     "metadata": {},
     "output_type": "execute_result"
    }
   ],
   "source": [
    "#Check the nulls\n",
    "df.isna().sum()"
   ]
  },
  {
   "cell_type": "markdown",
   "metadata": {},
   "source": [
    "- No missing values in the data."
   ]
  },
  {
   "cell_type": "code",
   "execution_count": 6,
   "metadata": {},
   "outputs": [
    {
     "data": {
      "text/html": [
       "<div>\n",
       "<style scoped>\n",
       "    .dataframe tbody tr th:only-of-type {\n",
       "        vertical-align: middle;\n",
       "    }\n",
       "\n",
       "    .dataframe tbody tr th {\n",
       "        vertical-align: top;\n",
       "    }\n",
       "\n",
       "    .dataframe thead th {\n",
       "        text-align: right;\n",
       "    }\n",
       "</style>\n",
       "<table border=\"1\" class=\"dataframe\">\n",
       "  <thead>\n",
       "    <tr style=\"text-align: right;\">\n",
       "      <th></th>\n",
       "      <th>X</th>\n",
       "      <th>Y</th>\n",
       "    </tr>\n",
       "  </thead>\n",
       "  <tbody>\n",
       "    <tr>\n",
       "      <th>count</th>\n",
       "      <td>97.000000</td>\n",
       "      <td>97.000000</td>\n",
       "    </tr>\n",
       "    <tr>\n",
       "      <th>mean</th>\n",
       "      <td>8.159800</td>\n",
       "      <td>5.839135</td>\n",
       "    </tr>\n",
       "    <tr>\n",
       "      <th>std</th>\n",
       "      <td>3.869884</td>\n",
       "      <td>5.510262</td>\n",
       "    </tr>\n",
       "    <tr>\n",
       "      <th>min</th>\n",
       "      <td>5.026900</td>\n",
       "      <td>-2.680700</td>\n",
       "    </tr>\n",
       "    <tr>\n",
       "      <th>25%</th>\n",
       "      <td>5.707700</td>\n",
       "      <td>1.986900</td>\n",
       "    </tr>\n",
       "    <tr>\n",
       "      <th>50%</th>\n",
       "      <td>6.589400</td>\n",
       "      <td>4.562300</td>\n",
       "    </tr>\n",
       "    <tr>\n",
       "      <th>75%</th>\n",
       "      <td>8.578100</td>\n",
       "      <td>7.046700</td>\n",
       "    </tr>\n",
       "    <tr>\n",
       "      <th>max</th>\n",
       "      <td>22.203000</td>\n",
       "      <td>24.147000</td>\n",
       "    </tr>\n",
       "  </tbody>\n",
       "</table>\n",
       "</div>"
      ],
      "text/plain": [
       "               X          Y\n",
       "count  97.000000  97.000000\n",
       "mean    8.159800   5.839135\n",
       "std     3.869884   5.510262\n",
       "min     5.026900  -2.680700\n",
       "25%     5.707700   1.986900\n",
       "50%     6.589400   4.562300\n",
       "75%     8.578100   7.046700\n",
       "max    22.203000  24.147000"
      ]
     },
     "execution_count": 6,
     "metadata": {},
     "output_type": "execute_result"
    }
   ],
   "source": [
    "#Statastical description of the data\n",
    "df.describe()"
   ]
  },
  {
   "cell_type": "code",
   "execution_count": 7,
   "metadata": {},
   "outputs": [
    {
     "data": {
      "image/png": "[encoded data removed]",
      "text/plain": [
       "<Figure size 504x504 with 1 Axes>"
      ]
     },
     "metadata": {},
     "output_type": "display_data"
    }
   ],
   "source": [
    "sns.histplot(df['X'])\n",
    "plt.title('The Distribution of X')\n",
    "plt.show()"
   ]
  },
  {
   "cell_type": "markdown",
   "metadata": {},
   "source": [
    "- Most of the data in the interval of 5 to 6.\n",
    "- There are empty intervals in this histogram and a few values in some intervals."
   ]
  },
  {
   "cell_type": "code",
   "execution_count": 8,
   "metadata": {},
   "outputs": [
    {
     "data": {
      "image/png": "[encoded data removed]",
      "text/plain": [
       "<Figure size 504x504 with 1 Axes>"
      ]
     },
     "metadata": {},
     "output_type": "display_data"
    }
   ],
   "source": [
    "sns.histplot(df['Y'])\n",
    "plt.title('The Distribution of Y')\n",
    "plt.show()"
   ]
  },
  {
   "cell_type": "markdown",
   "metadata": {},
   "source": [
    "- Most of the data are in the interval of 4 to 6.\n",
    "- There are empty intervals in this histogram and a few values in some intervals."
   ]
  },
  {
   "cell_type": "code",
   "execution_count": 9,
   "metadata": {},
   "outputs": [
    {
     "data": {
      "image/png": "[encoded data removed]",
      "text/plain": [
       "<Figure size 504x504 with 1 Axes>"
      ]
     },
     "metadata": {},
     "output_type": "display_data"
    }
   ],
   "source": [
    "plt.figure(figsize = (7,7))\n",
    "plt.scatter(df['X'],df['Y'])\n",
    "plt.title('Feature X VS Label Y')\n",
    "plt.xlabel('X')\n",
    "plt.ylabel('Y')\n",
    "plt.show()"
   ]
  },
  {
   "cell_type": "markdown",
   "metadata": {},
   "source": [
    "- From the above scatter plot we can see there are points in X have a low value but in Y have a high value, also we can see there are some extreme values which they are high in both of X and Y. "
   ]
  },
  {
   "cell_type": "code",
   "execution_count": 10,
   "metadata": {},
   "outputs": [
    {
     "data": {
      "text/html": [
       "<div>\n",
       "<style scoped>\n",
       "    .dataframe tbody tr th:only-of-type {\n",
       "        vertical-align: middle;\n",
       "    }\n",
       "\n",
       "    .dataframe tbody tr th {\n",
       "        vertical-align: top;\n",
       "    }\n",
       "\n",
       "    .dataframe thead th {\n",
       "        text-align: right;\n",
       "    }\n",
       "</style>\n",
       "<table border=\"1\" class=\"dataframe\">\n",
       "  <thead>\n",
       "    <tr style=\"text-align: right;\">\n",
       "      <th></th>\n",
       "      <th>X</th>\n",
       "      <th>Y</th>\n",
       "    </tr>\n",
       "  </thead>\n",
       "  <tbody>\n",
       "    <tr>\n",
       "      <th>10</th>\n",
       "      <td>5.7107</td>\n",
       "      <td>3.2522</td>\n",
       "    </tr>\n",
       "    <tr>\n",
       "      <th>38</th>\n",
       "      <td>12.8360</td>\n",
       "      <td>10.1170</td>\n",
       "    </tr>\n",
       "    <tr>\n",
       "      <th>76</th>\n",
       "      <td>7.5386</td>\n",
       "      <td>3.8845</td>\n",
       "    </tr>\n",
       "    <tr>\n",
       "      <th>0</th>\n",
       "      <td>6.1101</td>\n",
       "      <td>17.5920</td>\n",
       "    </tr>\n",
       "    <tr>\n",
       "      <th>65</th>\n",
       "      <td>7.2182</td>\n",
       "      <td>4.8852</td>\n",
       "    </tr>\n",
       "  </tbody>\n",
       "</table>\n",
       "</div>"
      ],
      "text/plain": [
       "          X        Y\n",
       "10   5.7107   3.2522\n",
       "38  12.8360  10.1170\n",
       "76   7.5386   3.8845\n",
       "0    6.1101  17.5920\n",
       "65   7.2182   4.8852"
      ]
     },
     "execution_count": 10,
     "metadata": {},
     "output_type": "execute_result"
    }
   ],
   "source": [
    "#Shuffling the data\n",
    "df_ = df.sample(frac = 1)\n",
    "#Displaying the first five rows of the data after shuffling process\n",
    "df_.head()"
   ]
  },
  {
   "cell_type": "code",
   "execution_count": 11,
   "metadata": {},
   "outputs": [],
   "source": [
    "#Splitting the data for training and testing\n",
    "x_train = df_['X'].iloc[ : 80].values\n",
    "y_train = df_['Y'].iloc[ : 80].values\n",
    "x_test  = df_['X'].iloc[80 : ].values\n",
    "y_test  = df_['Y'].iloc[80 : ].values"
   ]
  },
  {
   "cell_type": "code",
   "execution_count": 12,
   "metadata": {},
   "outputs": [
    {
     "name": "stdout",
     "output_type": "stream",
     "text": [
      "X Train:  [ 5.7107 12.836   7.5386  6.1101  7.2182  5.0702  7.6366  5.5649  7.8247\n",
      "  6.3654  7.0708 11.7    22.203   5.5277  5.8707  6.5159  5.7737 18.959\n",
      " 20.341   5.2524  5.0365  5.4369 14.908   5.6397  5.1077  5.8598  6.4862\n",
      "  9.7687  5.734   6.8825 13.176   5.8014  5.3077  7.4764 13.394   7.0032\n",
      "  8.8254  7.5402  5.3794  6.1891  7.2259  5.0594  6.3328 10.236   8.2951\n",
      "  9.1802  7.6031  6.5894  8.5172  6.0062 14.164   7.4239  6.3557  5.7077\n",
      "  6.3534  8.5781  5.5416  5.6407  5.0546 10.957   9.2482 21.279  10.136\n",
      "  6.5479  8.2934  8.2111  7.3345  7.0931  5.4994  8.5186  5.1301  6.3589\n",
      "  6.2742  6.4296  9.3102 18.945   5.1884 10.274   5.7292  5.1793]\n",
      "Y Train:  [ 3.2522  10.117    3.8845  17.592    4.8852   5.1337   4.2959   3.0825\n",
      "  6.7318   5.3048   5.3893   8.0043  24.147    9.1302   7.2029   5.3436\n",
      "  2.4406  17.054   20.992   -1.22     5.7014   0.61705 12.054    4.6042\n",
      "  2.0576   6.8233   6.5987   7.5435   3.1551   3.9115  14.692    1.844\n",
      "  1.8396   4.3483   9.0551  11.854    5.1694   6.7504   3.5129   3.1386\n",
      "  3.3411   2.8214   1.4233   7.7754   5.7442   6.7981   4.9981   5.9966\n",
      "  4.2415   1.2784  15.505    4.2885   0.67861  1.8451   5.4974  12.\n",
      "  1.0179   0.71618  3.8166   7.0467  12.134   17.929    6.6799   0.29678\n",
      "  0.14454  6.5426   4.0259   1.0463   1.0173  13.662    0.56077 -1.4211\n",
      "  2.4756   3.6518   3.9624  22.638    0.20421  6.7526   0.47953 -0.74279]\n",
      "X Test:  [ 5.8918  5.4901 12.828   5.3054  8.4084  9.4536  8.3829  5.4069  6.002\n",
      " 20.27    5.0269  5.5204  7.9334 11.708   6.3261  5.6063  8.0959]\n",
      "Y Test:  [ 1.8495   4.263   13.501    1.9869   7.2258   5.4141  11.886    0.55657\n",
      "  0.92695 21.767   -2.6807   0.152    4.5623   5.3854   5.1875   3.3928\n",
      "  4.1164 ]\n"
     ]
    }
   ],
   "source": [
    "#Displaying training and testing data\n",
    "print('X Train: ', x_train)\n",
    "print('Y Train: ', y_train)\n",
    "print('X Test: ', x_test)\n",
    "print('Y Test: ', y_test)"
   ]
  },
  {
   "cell_type": "code",
   "execution_count": 13,
   "metadata": {},
   "outputs": [
    {
     "name": "stdout",
     "output_type": "stream",
     "text": [
      "X Train Shape: (80,) and Type: <class 'numpy.ndarray'>\n",
      "Y Train Shape: (80,) and Type: <class 'numpy.ndarray'>\n",
      "X Test Shape: (17,)  and Type: <class 'numpy.ndarray'>\n",
      "Y Test Shape: (17,)  and Type: <class 'numpy.ndarray'>\n"
     ]
    }
   ],
   "source": [
    "#Displaying the shape and type of training and testing data\n",
    "print(f'X Train Shape: {x_train.shape} and Type: {type(x_train)}')\n",
    "print(f'Y Train Shape: {y_train.shape} and Type: {type(y_train)}')\n",
    "print(f'X Test Shape: {x_test.shape}  and Type: {type(x_test)}')\n",
    "print(f'Y Test Shape: {y_test.shape}  and Type: {type(y_test)}')"
   ]
  },
  {
   "cell_type": "code",
   "execution_count": 14,
   "metadata": {},
   "outputs": [],
   "source": [
    "def MEAN(arr):\n",
    "    '''\n",
    "    This function for obtaining the mean from an array from scratch.\n",
    "    INPUT:\n",
    "    arr: numpy.ndarray. The array.\n",
    "    OUTPUT:\n",
    "    The mean of the given array.\n",
    "    '''\n",
    "    sum_ = 0\n",
    "    length = len(arr)\n",
    "    for idx in range(length):\n",
    "        sum_ += arr[idx]\n",
    "    return sum_ / length\n",
    "\n",
    "def standard_deviation(arr):\n",
    "    '''\n",
    "    This function for obtaining the standard deviation from an array from scratch.\n",
    "    INPUT:\n",
    "    arr: numpy.ndarray. The array.\n",
    "    OUTPUT:\n",
    "    The standard deviation of the given array.\n",
    "    '''\n",
    "    sum_ = 0\n",
    "    length = len(arr)\n",
    "    arr_mean = MEAN(arr)\n",
    "    for idx in range(length):\n",
    "        sum_ += ((arr[idx] - arr_mean) ** 2)\n",
    "    return (sum_ / (length - 1)) ** 0.5\n",
    "\n",
    "def covariance(x, y):\n",
    "    '''\n",
    "    This function for calculating the covariance.\n",
    "    INPUT:\n",
    "    x: numpy.ndarray. The x feature.\n",
    "    y: numpy.ndarray. The label.\n",
    "    OUTPUT:\n",
    "    Covariance value.\n",
    "    '''\n",
    "    length = len(x)\n",
    "    sum_ = 0\n",
    "    x_mean = MEAN(x)\n",
    "    y_mean = MEAN(y)\n",
    "    for idx in range(length):\n",
    "        sum_ += ((x[idx] - x_mean) * (y[idx] - y_mean))\n",
    "    return sum_ / (length - 1)\n",
    "\n",
    "def correlation(x, y):\n",
    "    '''\n",
    "    This function for calculating the correlation.\n",
    "    INPUT:\n",
    "    x: numpy.ndarray. The x feature.\n",
    "    y: numpy.ndarray. The label.\n",
    "    OUTPUT:\n",
    "    correlation value.\n",
    "    '''\n",
    "    cov = covariance(x, y)\n",
    "    std_x = standard_deviation(x)\n",
    "    std_y = standard_deviation(y)\n",
    "    return cov / (std_x * std_y)"
   ]
  },
  {
   "cell_type": "code",
   "execution_count": 15,
   "metadata": {},
   "outputs": [
    {
     "data": {
      "text/plain": [
       "0.837873232526341"
      ]
     },
     "execution_count": 15,
     "metadata": {},
     "output_type": "execute_result"
    }
   ],
   "source": [
    "#The correlation between X and Y\n",
    "x = df[\"X\"].values\n",
    "y = df[\"Y\"].values\n",
    "correlation(x,y)"
   ]
  },
  {
   "cell_type": "markdown",
   "metadata": {},
   "source": [
    "- From the above correlation value, the correlation between X and Y is a strong positive correlation."
   ]
  },
  {
   "cell_type": "code",
   "execution_count": 16,
   "metadata": {},
   "outputs": [],
   "source": [
    "class Regression:\n",
    "\n",
    "    @classmethod\n",
    "    def fit(cls, x_train, y_train):\n",
    "        '''\n",
    "        This class method for calculating B0 and B1\n",
    "        INPUT:\n",
    "        x_train: numpy.ndarray. The training part from x.\n",
    "        y_train: numpy.ndarray. The training part from y.\n",
    "        '''\n",
    "        numerator_val = 0\n",
    "        denominator_val = 0\n",
    "        x_mean = MEAN(x_train)\n",
    "        y_mean = MEAN(y_train)\n",
    "        for idx in range(len(x_train)):\n",
    "            numerator_val += ((x_train[idx] - x_mean) * (y_train[idx] - y_mean))\n",
    "            denominator_val += ((x_train[idx] - x_mean) ** 2)\n",
    "        cls.B1 = numerator_val / denominator_val\n",
    "        cls.B0 = y_mean - cls.B1 * x_mean\n",
    "    \n",
    "    @classmethod\n",
    "    def predict(cls, x_test):\n",
    "        '''\n",
    "        This class method for predicting the y_test values by using x_test values.\n",
    "        INPUT:\n",
    "        x_test: numpy.ndarray. The testing part from x.\n",
    "        OUTPUT:\n",
    "        The predicted values.\n",
    "        '''\n",
    "        y_pred = []\n",
    "        for idx in range(len(x_test)):\n",
    "            y_pred.append(cls.B0 + cls.B1 * x_test[idx])\n",
    "        return y_pred\n",
    "    \n",
    "    @staticmethod\n",
    "    def evaluate(y_pred,y_actual):\n",
    "        ''''\n",
    "        This static method for evaluating the model by calculating the mean squared error.\n",
    "        INPUT:\n",
    "        y_pred: list. The predicted values.\n",
    "        y_actual: numpy.ndarray. The testing part from y.\n",
    "        OUTPUT:\n",
    "        Mean squared error value.\n",
    "        '''\n",
    "        length = len(y_pred)\n",
    "        sum_ = 0\n",
    "        for idx in range(length):\n",
    "            sum_ += ((y_actual[idx] - y_pred[idx]) ** 2)\n",
    "        print(f'The Model Evaluation by using MSE = {sum_ / length}')\n",
    "    \n",
    "    @staticmethod\n",
    "    def accuracy(y_pred, y_actual):\n",
    "        '''\n",
    "        This static method for calculating the accuracy of the model.\n",
    "        INPUT:\n",
    "        y_pred: list. The predicted values.\n",
    "        y_actual: numpy.ndarray. The testing part from y.\n",
    "        OUTPUT:\n",
    "        The value of r2 score.\n",
    "        '''\n",
    "        rss = 0\n",
    "        tss = 0\n",
    "        y_mean = MEAN(y_actual)\n",
    "        for idx in range(len(y_pred)):\n",
    "            rss += ((y_pred[idx] - y_actual[idx]) ** 2)\n",
    "            tss += ((y_actual[idx] - y_mean) ** 2)\n",
    "        print(f'The Accuracy of the model = {1 - (rss / tss)}')"
   ]
  },
  {
   "cell_type": "code",
   "execution_count": 17,
   "metadata": {},
   "outputs": [],
   "source": [
    "#Taking an object from the class\n",
    "reg = Regression()"
   ]
  },
  {
   "cell_type": "code",
   "execution_count": 18,
   "metadata": {},
   "outputs": [],
   "source": [
    "#Fitting process\n",
    "reg.fit(x_train,y_train)"
   ]
  },
  {
   "cell_type": "code",
   "execution_count": 19,
   "metadata": {},
   "outputs": [
    {
     "data": {
      "text/plain": [
       "[3.312747719756832,\n",
       " 2.8463725187908393,\n",
       " 11.365701837108885,\n",
       " 2.631935128652878,\n",
       " 6.234529723120083,\n",
       " 7.4480108285461615,\n",
       " 6.2049241278384475,\n",
       " 2.7497770079111516,\n",
       " 3.4406903315229567,\n",
       " 20.005891644400194,\n",
       " 2.3085955880279627,\n",
       " 2.8815509320078414,\n",
       " 5.683052948266095,\n",
       " 10.06537765219001,\n",
       " 3.816971642533857,\n",
       " 2.981281152976173,\n",
       " 5.8717160554529855]"
      ]
     },
     "execution_count": 19,
     "metadata": {},
     "output_type": "execute_result"
    }
   ],
   "source": [
    "#Predicted values\n",
    "y_pred = reg.predict(x_test)\n",
    "y_pred"
   ]
  },
  {
   "cell_type": "code",
   "execution_count": 20,
   "metadata": {},
   "outputs": [
    {
     "name": "stdout",
     "output_type": "stream",
     "text": [
      "The Model Evaluation by using MSE = 7.13992388099542\n"
     ]
    }
   ],
   "source": [
    "#Evaluating the model\n",
    "reg.evaluate(y_pred,y_test)"
   ]
  },
  {
   "cell_type": "code",
   "execution_count": 21,
   "metadata": {},
   "outputs": [
    {
     "name": "stdout",
     "output_type": "stream",
     "text": [
      "The Accuracy of the model = 0.7780489441057344\n"
     ]
    }
   ],
   "source": [
    "#Model accuracy\n",
    "reg.accuracy(y_pred,y_test)"
   ]
  },
  {
   "cell_type": "code",
   "execution_count": 22,
   "metadata": {},
   "outputs": [
    {
     "data": {
      "image/png": "[encoded data removed]",
      "text/plain": [
       "<Figure size 504x504 with 1 Axes>"
      ]
     },
     "metadata": {},
     "output_type": "display_data"
    }
   ],
   "source": [
    "plt.plot(x_test,y_pred)\n",
    "plt.title('Actual Data VS Predicted Data')\n",
    "plt.xlabel('Actual Data')\n",
    "plt.ylabel('Predicted Data')\n",
    "plt.show()"
   ]
  }
 ],
 "metadata": {
  "kernelspec": {
   "display_name": "Python 3.8.8 ('base')",
   "language": "python",
   "name": "python3"
  },
  "language_info": {
   "codemirror_mode": {
    "name": "ipython",
    "version": 3
   },
   "file_extension": ".py",
   "mimetype": "text/x-python",
   "name": "python",
   "nbconvert_exporter": "python",
   "pygments_lexer": "ipython3",
   "version": "3.8.8"
  },
  "orig_nbformat": 4,
  "vscode": {
   "interpreter": {
    "hash": "2c1b7d2a254a833f77e60ac78da1ed54ff65cb1701c74f3555560f6bc7e55a47"
   }
  }
 },
 "nbformat": 4,
 "nbformat_minor": 2
}
