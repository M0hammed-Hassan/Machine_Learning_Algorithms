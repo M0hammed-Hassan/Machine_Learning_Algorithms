{
 "cells": [
  {
   "cell_type": "markdown",
   "metadata": {},
   "source": [
    "# Implementing Linear Regression By Using MiniBatch Gradient Descent"
   ]
  },
  {
   "cell_type": "code",
   "execution_count": 1,
   "metadata": {},
   "outputs": [],
   "source": [
    "#Required Libraries\n",
    "import numpy as np\n",
    "import pandas as pd\n",
    "import matplotlib.pyplot as plt"
   ]
  },
  {
   "cell_type": "code",
   "execution_count": 2,
   "metadata": {},
   "outputs": [],
   "source": [
    "#Reading the data\n",
    "df = pd.read_csv('data.csv')"
   ]
  },
  {
   "cell_type": "code",
   "execution_count": 3,
   "metadata": {},
   "outputs": [
    {
     "data": {
      "text/html": [
       "<div>\n",
       "<style scoped>\n",
       "    .dataframe tbody tr th:only-of-type {\n",
       "        vertical-align: middle;\n",
       "    }\n",
       "\n",
       "    .dataframe tbody tr th {\n",
       "        vertical-align: top;\n",
       "    }\n",
       "\n",
       "    .dataframe thead th {\n",
       "        text-align: right;\n",
       "    }\n",
       "</style>\n",
       "<table border=\"1\" class=\"dataframe\">\n",
       "  <thead>\n",
       "    <tr style=\"text-align: right;\">\n",
       "      <th></th>\n",
       "      <th>days</th>\n",
       "      <th>length</th>\n",
       "    </tr>\n",
       "  </thead>\n",
       "  <tbody>\n",
       "    <tr>\n",
       "      <th>0</th>\n",
       "      <td>1</td>\n",
       "      <td>0</td>\n",
       "    </tr>\n",
       "    <tr>\n",
       "      <th>1</th>\n",
       "      <td>5</td>\n",
       "      <td>1</td>\n",
       "    </tr>\n",
       "    <tr>\n",
       "      <th>2</th>\n",
       "      <td>14</td>\n",
       "      <td>2</td>\n",
       "    </tr>\n",
       "    <tr>\n",
       "      <th>3</th>\n",
       "      <td>22</td>\n",
       "      <td>5</td>\n",
       "    </tr>\n",
       "    <tr>\n",
       "      <th>4</th>\n",
       "      <td>44</td>\n",
       "      <td>29</td>\n",
       "    </tr>\n",
       "  </tbody>\n",
       "</table>\n",
       "</div>"
      ],
      "text/plain": [
       "   days  length\n",
       "0     1       0\n",
       "1     5       1\n",
       "2    14       2\n",
       "3    22       5\n",
       "4    44      29"
      ]
     },
     "execution_count": 3,
     "metadata": {},
     "output_type": "execute_result"
    }
   ],
   "source": [
    "#The first five rows from the data\n",
    "df.head()"
   ]
  },
  {
   "cell_type": "code",
   "execution_count": 4,
   "metadata": {},
   "outputs": [
    {
     "name": "stdout",
     "output_type": "stream",
     "text": [
      "<class 'pandas.core.frame.DataFrame'>\n",
      "RangeIndex: 20 entries, 0 to 19\n",
      "Data columns (total 2 columns):\n",
      " #   Column  Non-Null Count  Dtype\n",
      "---  ------  --------------  -----\n",
      " 0   days    20 non-null     int64\n",
      " 1   length  20 non-null     int64\n",
      "dtypes: int64(2)\n",
      "memory usage: 448.0 bytes\n"
     ]
    }
   ],
   "source": [
    "#The information of the data\n",
    "df.info()"
   ]
  },
  {
   "cell_type": "code",
   "execution_count": 5,
   "metadata": {},
   "outputs": [
    {
     "data": {
      "text/html": [
       "<div>\n",
       "<style scoped>\n",
       "    .dataframe tbody tr th:only-of-type {\n",
       "        vertical-align: middle;\n",
       "    }\n",
       "\n",
       "    .dataframe tbody tr th {\n",
       "        vertical-align: top;\n",
       "    }\n",
       "\n",
       "    .dataframe thead th {\n",
       "        text-align: right;\n",
       "    }\n",
       "</style>\n",
       "<table border=\"1\" class=\"dataframe\">\n",
       "  <thead>\n",
       "    <tr style=\"text-align: right;\">\n",
       "      <th></th>\n",
       "      <th>days</th>\n",
       "      <th>length</th>\n",
       "    </tr>\n",
       "  </thead>\n",
       "  <tbody>\n",
       "    <tr>\n",
       "      <th>count</th>\n",
       "      <td>20.000000</td>\n",
       "      <td>20.000000</td>\n",
       "    </tr>\n",
       "    <tr>\n",
       "      <th>mean</th>\n",
       "      <td>86.250000</td>\n",
       "      <td>362.550000</td>\n",
       "    </tr>\n",
       "    <tr>\n",
       "      <th>std</th>\n",
       "      <td>48.353822</td>\n",
       "      <td>254.952106</td>\n",
       "    </tr>\n",
       "    <tr>\n",
       "      <th>min</th>\n",
       "      <td>1.000000</td>\n",
       "      <td>0.000000</td>\n",
       "    </tr>\n",
       "    <tr>\n",
       "      <th>25%</th>\n",
       "      <td>52.250000</td>\n",
       "      <td>138.500000</td>\n",
       "    </tr>\n",
       "    <tr>\n",
       "      <th>50%</th>\n",
       "      <td>99.000000</td>\n",
       "      <td>435.000000</td>\n",
       "    </tr>\n",
       "    <tr>\n",
       "      <th>75%</th>\n",
       "      <td>120.000000</td>\n",
       "      <td>594.750000</td>\n",
       "    </tr>\n",
       "    <tr>\n",
       "      <th>max</th>\n",
       "      <td>150.000000</td>\n",
       "      <td>647.000000</td>\n",
       "    </tr>\n",
       "  </tbody>\n",
       "</table>\n",
       "</div>"
      ],
      "text/plain": [
       "             days      length\n",
       "count   20.000000   20.000000\n",
       "mean    86.250000  362.550000\n",
       "std     48.353822  254.952106\n",
       "min      1.000000    0.000000\n",
       "25%     52.250000  138.500000\n",
       "50%     99.000000  435.000000\n",
       "75%    120.000000  594.750000\n",
       "max    150.000000  647.000000"
      ]
     },
     "execution_count": 5,
     "metadata": {},
     "output_type": "execute_result"
    }
   ],
   "source": [
    "#Statastical description of the data\n",
    "df.describe()"
   ]
  },
  {
   "cell_type": "code",
   "execution_count": 6,
   "metadata": {},
   "outputs": [],
   "source": [
    "#Inserting X0 into the data frame\n",
    "df.insert(0,'X0',1)"
   ]
  },
  {
   "cell_type": "code",
   "execution_count": 7,
   "metadata": {},
   "outputs": [
    {
     "data": {
      "text/html": [
       "<div>\n",
       "<style scoped>\n",
       "    .dataframe tbody tr th:only-of-type {\n",
       "        vertical-align: middle;\n",
       "    }\n",
       "\n",
       "    .dataframe tbody tr th {\n",
       "        vertical-align: top;\n",
       "    }\n",
       "\n",
       "    .dataframe thead th {\n",
       "        text-align: right;\n",
       "    }\n",
       "</style>\n",
       "<table border=\"1\" class=\"dataframe\">\n",
       "  <thead>\n",
       "    <tr style=\"text-align: right;\">\n",
       "      <th></th>\n",
       "      <th>X0</th>\n",
       "      <th>days</th>\n",
       "      <th>length</th>\n",
       "    </tr>\n",
       "  </thead>\n",
       "  <tbody>\n",
       "    <tr>\n",
       "      <th>0</th>\n",
       "      <td>1</td>\n",
       "      <td>1</td>\n",
       "      <td>0</td>\n",
       "    </tr>\n",
       "    <tr>\n",
       "      <th>1</th>\n",
       "      <td>1</td>\n",
       "      <td>5</td>\n",
       "      <td>1</td>\n",
       "    </tr>\n",
       "    <tr>\n",
       "      <th>2</th>\n",
       "      <td>1</td>\n",
       "      <td>14</td>\n",
       "      <td>2</td>\n",
       "    </tr>\n",
       "    <tr>\n",
       "      <th>3</th>\n",
       "      <td>1</td>\n",
       "      <td>22</td>\n",
       "      <td>5</td>\n",
       "    </tr>\n",
       "    <tr>\n",
       "      <th>4</th>\n",
       "      <td>1</td>\n",
       "      <td>44</td>\n",
       "      <td>29</td>\n",
       "    </tr>\n",
       "  </tbody>\n",
       "</table>\n",
       "</div>"
      ],
      "text/plain": [
       "   X0  days  length\n",
       "0   1     1       0\n",
       "1   1     5       1\n",
       "2   1    14       2\n",
       "3   1    22       5\n",
       "4   1    44      29"
      ]
     },
     "execution_count": 7,
     "metadata": {},
     "output_type": "execute_result"
    }
   ],
   "source": [
    "df.head()"
   ]
  },
  {
   "cell_type": "code",
   "execution_count": 8,
   "metadata": {},
   "outputs": [],
   "source": [
    "#Splitting the data to x and y\n",
    "cols = df.shape[1]\n",
    "x = df.iloc[:,0:cols-1]\n",
    "y = df.iloc[:,cols-1:cols]\n"
   ]
  },
  {
   "cell_type": "code",
   "execution_count": 9,
   "metadata": {},
   "outputs": [],
   "source": [
    "#Converting x,y into matrices\n",
    "x = np.matrix(x.values)\n",
    "y = np.matrix(y.values)"
   ]
  },
  {
   "cell_type": "code",
   "execution_count": 10,
   "metadata": {},
   "outputs": [
    {
     "data": {
      "text/plain": [
       "matrix([[  1,   1],\n",
       "        [  1,   5],\n",
       "        [  1,  14],\n",
       "        [  1,  22],\n",
       "        [  1,  44],\n",
       "        [  1,  55],\n",
       "        [  1,  72],\n",
       "        [  1,  77],\n",
       "        [  1,  85],\n",
       "        [  1,  97],\n",
       "        [  1, 101],\n",
       "        [  1, 106],\n",
       "        [  1, 113],\n",
       "        [  1, 116],\n",
       "        [  1, 119],\n",
       "        [  1, 123],\n",
       "        [  1, 133],\n",
       "        [  1, 143],\n",
       "        [  1, 149],\n",
       "        [  1, 150]], dtype=int64)"
      ]
     },
     "execution_count": 10,
     "metadata": {},
     "output_type": "execute_result"
    }
   ],
   "source": [
    "x"
   ]
  },
  {
   "cell_type": "code",
   "execution_count": 11,
   "metadata": {},
   "outputs": [
    {
     "data": {
      "text/plain": [
       "matrix([[  0],\n",
       "        [  1],\n",
       "        [  2],\n",
       "        [  5],\n",
       "        [ 29],\n",
       "        [300],\n",
       "        [175],\n",
       "        [200],\n",
       "        [290],\n",
       "        [400],\n",
       "        [470],\n",
       "        [500],\n",
       "        [545],\n",
       "        [560],\n",
       "        [590],\n",
       "        [609],\n",
       "        [635],\n",
       "        [647],\n",
       "        [647],\n",
       "        [646]], dtype=int64)"
      ]
     },
     "execution_count": 11,
     "metadata": {},
     "output_type": "execute_result"
    }
   ],
   "source": [
    "y"
   ]
  },
  {
   "cell_type": "code",
   "execution_count": 12,
   "metadata": {},
   "outputs": [
    {
     "data": {
      "image/png": "[encoded data removed]",
      "text/plain": [
       "<Figure size 432x288 with 1 Axes>"
      ]
     },
     "metadata": {
      "needs_background": "light"
     },
     "output_type": "display_data"
    }
   ],
   "source": [
    "plt.scatter(df['days'],df['length'],c = 'm')\n",
    "plt.title('The Feature VS The Label')\n",
    "plt.xlabel('Days')\n",
    "plt.ylabel('Length')\n",
    "plt.show()"
   ]
  },
  {
   "cell_type": "markdown",
   "metadata": {},
   "source": [
    "- In General there are a positive correlation between the feature and the label.\n",
    "- There are an extream value in the data."
   ]
  },
  {
   "cell_type": "code",
   "execution_count": 13,
   "metadata": {},
   "outputs": [],
   "source": [
    "def cost_func(x,theta,y):\n",
    "    '''\n",
    "    This function for calculating the error between the actual and predicted values.\n",
    "    INPUT:\n",
    "    x: numpy.matrix. The feature.\n",
    "    theta: numpy.matrix. The weights.\n",
    "    y: numpy.matrix. The label.\n",
    "    OUTPUT:\n",
    "    The value of the error.\n",
    "    '''\n",
    "    return (1 / (2 * len(x))) * np.sum(np.power(((x * theta.T) - y),2))"
   ]
  },
  {
   "cell_type": "code",
   "execution_count": 14,
   "metadata": {},
   "outputs": [],
   "source": [
    "def MBGD(x,theta,y,iterations = 1000,alpha = 0.001,batch = 5):\n",
    "    '''\n",
    "    This function for calculating the mini batch gradient descent.\n",
    "    INPUT:\n",
    "    x: numpy.matrix. The feature.\n",
    "    theta: numpy.matrix. The initial weights.\n",
    "    y: numpy.matrix. The label.\n",
    "    iterations: int. The number of iterations.\n",
    "    alpha: float. The learning rate.\n",
    "    batch: int. The data batch.\n",
    "    OUTPUT:\n",
    "    The values of the thetas.\n",
    "    '''\n",
    "    tmp = np.matrix(np.zeros(theta.shape))\n",
    "    length = x.shape[0]\n",
    "    cost = []\n",
    "    for itrs in range(iterations):\n",
    "        cnt = 0\n",
    "        for _ in range(length // batch):\n",
    "            error_val = (x[cnt:cnt + batch] * theta.T) - y[cnt:cnt + batch]\n",
    "            for idx in range(theta.shape[1]):\n",
    "                tmp[0,idx] = theta[0,idx] - ((alpha /x.shape[0]) * np.sum(np.multiply(error_val,x[cnt:cnt + batch,idx])))\n",
    "            theta = tmp\n",
    "            cost.append(cost_func(x[cnt:cnt + batch],theta,y[cnt:cnt + batch]))\n",
    "            cnt += batch\n",
    "    return theta,cost"
   ]
  },
  {
   "cell_type": "code",
   "execution_count": 15,
   "metadata": {},
   "outputs": [],
   "source": [
    "#Initializing theta\n",
    "theta = np.matrix(np.array([5,6])) \n",
    "#The optimized theta\n",
    "opt_theta,cost = MBGD(x,theta,y,iterations = 10000,alpha = 0.0001,batch = 5)"
   ]
  },
  {
   "cell_type": "code",
   "execution_count": 16,
   "metadata": {},
   "outputs": [
    {
     "data": {
      "text/plain": [
       "matrix([[-11.86610149,   4.59716423]])"
      ]
     },
     "execution_count": 16,
     "metadata": {},
     "output_type": "execute_result"
    }
   ],
   "source": [
    "opt_theta"
   ]
  },
  {
   "cell_type": "code",
   "execution_count": 17,
   "metadata": {},
   "outputs": [
    {
     "data": {
      "text/plain": [
       "[8167.2995417038055,\n",
       " 16145.31147371021,\n",
       " 1870.418688723863,\n",
       " 2157.661996257971,\n",
       " 5325.559586009141]"
      ]
     },
     "execution_count": 17,
     "metadata": {},
     "output_type": "execute_result"
    }
   ],
   "source": [
    "#The first 5 values\n",
    "cost[:5]"
   ]
  },
  {
   "cell_type": "code",
   "execution_count": 18,
   "metadata": {},
   "outputs": [],
   "source": [
    "#Predicted values\n",
    "y_pred = x * opt_theta.T"
   ]
  },
  {
   "cell_type": "code",
   "execution_count": 19,
   "metadata": {},
   "outputs": [
    {
     "data": {
      "image/png": "[encoded data removed]",
      "text/plain": [
       "<Figure size 432x288 with 1 Axes>"
      ]
     },
     "metadata": {
      "needs_background": "light"
     },
     "output_type": "display_data"
    }
   ],
   "source": [
    "plt.scatter(df['days'],df['length'],label = 'Data',c = 'm')\n",
    "plt.plot(df['days'],np.array(y_pred),label = 'Predicted Line',c = 'c')\n",
    "plt.title('Data VS The Predicted Line')\n",
    "plt.xlabel('Days')\n",
    "plt.ylabel('Length')\n",
    "plt.legend()\n",
    "plt.show()"
   ]
  },
  {
   "cell_type": "markdown",
   "metadata": {},
   "source": [
    "- From the above shape, it's a good line for these limited functions."
   ]
  }
 ],
 "metadata": {
  "kernelspec": {
   "display_name": "Python 3.8.8 ('base')",
   "language": "python",
   "name": "python3"
  },
  "language_info": {
   "codemirror_mode": {
    "name": "ipython",
    "version": 3
   },
   "file_extension": ".py",
   "mimetype": "text/x-python",
   "name": "python",
   "nbconvert_exporter": "python",
   "pygments_lexer": "ipython3",
   "version": "3.8.8"
  },
  "orig_nbformat": 4,
  "vscode": {
   "interpreter": {
    "hash": "2c1b7d2a254a833f77e60ac78da1ed54ff65cb1701c74f3555560f6bc7e55a47"
   }
  }
 },
 "nbformat": 4,
 "nbformat_minor": 2
}
